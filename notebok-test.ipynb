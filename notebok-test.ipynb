{
 "cells": [
  {
   "cell_type": "code",
   "execution_count": 1,
   "metadata": {},
   "outputs": [
    {
     "name": "stdout",
     "output_type": "stream",
     "text": [
      "Defaulting to user installation because normal site-packages is not writeable\n",
      "Collecting gensim\n",
      "  Downloading gensim-4.3.2-cp311-cp311-manylinux_2_17_x86_64.manylinux2014_x86_64.whl.metadata (8.3 kB)\n",
      "Requirement already satisfied: numpy>=1.18.5 in /home/vscode/.local/lib/python3.11/site-packages (from gensim) (1.26.4)\n",
      "Collecting scipy>=1.7.0 (from gensim)\n",
      "  Downloading scipy-1.12.0-cp311-cp311-manylinux_2_17_x86_64.manylinux2014_x86_64.whl.metadata (60 kB)\n",
      "\u001b[2K     \u001b[90m━━━━━━━━━━━━━━━━━━━━━━━━━━━━━━━━━━━━━━━━\u001b[0m \u001b[32m60.4/60.4 kB\u001b[0m \u001b[31m1.6 MB/s\u001b[0m eta \u001b[36m0:00:00\u001b[0m\n",
      "\u001b[?25hCollecting smart-open>=1.8.1 (from gensim)\n",
      "  Downloading smart_open-7.0.1-py3-none-any.whl.metadata (23 kB)\n",
      "Collecting wrapt (from smart-open>=1.8.1->gensim)\n",
      "  Downloading wrapt-1.16.0-cp311-cp311-manylinux_2_5_x86_64.manylinux1_x86_64.manylinux_2_17_x86_64.manylinux2014_x86_64.whl.metadata (6.6 kB)\n",
      "Downloading gensim-4.3.2-cp311-cp311-manylinux_2_17_x86_64.manylinux2014_x86_64.whl (26.7 MB)\n",
      "\u001b[2K   \u001b[90m━━━━━━━━━━━━━━━━━━━━━━━━━━━━━━━━━━━━━━━━\u001b[0m \u001b[32m26.7/26.7 MB\u001b[0m \u001b[31m24.6 MB/s\u001b[0m eta \u001b[36m0:00:00\u001b[0m00:01\u001b[0m00:01\u001b[0m\n",
      "\u001b[?25hDownloading scipy-1.12.0-cp311-cp311-manylinux_2_17_x86_64.manylinux2014_x86_64.whl (38.4 MB)\n",
      "\u001b[2K   \u001b[90m━━━━━━━━━━━━━━━━━━━━━━━━━━━━━━━━━━━━━━━━\u001b[0m \u001b[32m38.4/38.4 MB\u001b[0m \u001b[31m14.3 MB/s\u001b[0m eta \u001b[36m0:00:00\u001b[0m00:01\u001b[0m00:01\u001b[0m\n",
      "\u001b[?25hDownloading smart_open-7.0.1-py3-none-any.whl (60 kB)\n",
      "\u001b[2K   \u001b[90m━━━━━━━━━━━━━━━━━━━━━━━━━━━━━━━━━━━━━━━━\u001b[0m \u001b[32m60.8/60.8 kB\u001b[0m \u001b[31m1.6 MB/s\u001b[0m eta \u001b[36m0:00:00\u001b[0m\n",
      "\u001b[?25hDownloading wrapt-1.16.0-cp311-cp311-manylinux_2_5_x86_64.manylinux1_x86_64.manylinux_2_17_x86_64.manylinux2014_x86_64.whl (80 kB)\n",
      "\u001b[2K   \u001b[90m━━━━━━━━━━━━━━━━━━━━━━━━━━━━━━━━━━━━━━━━\u001b[0m \u001b[32m80.7/80.7 kB\u001b[0m \u001b[31m1.8 MB/s\u001b[0m eta \u001b[36m0:00:00\u001b[0meta \u001b[36m0:00:01\u001b[0m\n",
      "\u001b[?25hInstalling collected packages: wrapt, scipy, smart-open, gensim\n",
      "Successfully installed gensim-4.3.2 scipy-1.12.0 smart-open-7.0.1 wrapt-1.16.0\n"
     ]
    }
   ],
   "source": [
    "# Run this cell\n",
    "!pip install gensim"
   ]
  },
  {
   "cell_type": "code",
   "execution_count": 2,
   "metadata": {},
   "outputs": [],
   "source": [
    "# Run this cell\n",
    "import gensim.downloader as api\n",
    "import numpy as np"
   ]
  },
  {
   "cell_type": "code",
   "execution_count": 3,
   "metadata": {},
   "outputs": [
    {
     "name": "stdout",
     "output_type": "stream",
     "text": [
      "[==================================================] 100.0% 104.8/104.8MB downloaded\n"
     ]
    }
   ],
   "source": [
    "# Run this cell\n",
    "\n",
    "# Download and load the pre-trained model from Twitter\n",
    "word2vec_model = api.load(\"glove-twitter-25\")\n",
    "\n",
    "# Get word vectors\n",
    "word_vector1 = word2vec_model['king']\n",
    "word_vector2 = word2vec_model['queen']"
   ]
  },
  {
   "cell_type": "code",
   "execution_count": 4,
   "metadata": {},
   "outputs": [
    {
     "name": "stdout",
     "output_type": "stream",
     "text": [
      "Word Vector 1 (king): [-0.74501  -0.11992   0.37329   0.36847  -0.4472   -0.2288    0.70118\n",
      "  0.82872   0.39486  -0.58347   0.41488   0.37074  -3.6906   -0.20101\n",
      "  0.11472  -0.34661   0.36208   0.095679 -0.01765   0.68498  -0.049013\n",
      "  0.54049  -0.21005  -0.65397   0.64556 ]\n",
      "Word Vector 2 (queen): [-1.1266   -0.52064   0.45565   0.21079  -0.05081  -0.65158   1.1395\n",
      "  0.69897  -0.20612  -0.71803  -0.02811   0.10977  -3.3089   -0.49299\n",
      " -0.51375   0.10363  -0.11764  -0.084972  0.02558   0.6859   -0.29196\n",
      "  0.4594   -0.39955  -0.40371   0.31828 ]\n"
     ]
    }
   ],
   "source": [
    "# Run this cell\n",
    "print(\"Word Vector 1 (king):\", word_vector1)\n",
    "print(\"Word Vector 2 (queen):\", word_vector2)"
   ]
  },
  {
   "cell_type": "code",
   "execution_count": 5,
   "metadata": {},
   "outputs": [
    {
     "name": "stdout",
     "output_type": "stream",
     "text": [
      "Result Vector: [-1.87161    -0.64056003  0.82894003  0.57926    -0.49801    -0.88038\n",
      "  1.84068     1.5276899   0.18874    -1.3015      0.38677     0.48051\n",
      " -6.9995003  -0.694      -0.39903003 -0.24298     0.24444     0.010707\n",
      "  0.00793     1.3708799  -0.340973    0.99988997 -0.6096     -1.05768\n",
      "  0.96384   ]\n"
     ]
    }
   ],
   "source": [
    "# Run this cell\n",
    "# Add the two vectors\n",
    "result_vector = word_vector1 + word_vector2\n",
    "\n",
    "# Print the results\n",
    "print(\"Result Vector:\", result_vector)"
   ]
  },
  {
   "cell_type": "code",
   "execution_count": 6,
   "metadata": {},
   "outputs": [
    {
     "name": "stdout",
     "output_type": "stream",
     "text": [
      "Most Similar Words to Result Vector:\n",
      "king: 0.9806498885154724\n",
      "queen: 0.9790497422218323\n",
      "prince: 0.9494946002960205\n",
      "lady: 0.9438114166259766\n",
      "aka: 0.9265403747558594\n",
      "hero: 0.9069766402244568\n",
      "'s: 0.9044355154037476\n",
      "jack: 0.9005230665206909\n",
      "princess: 0.9002885818481445\n",
      "star: 0.8977693915367126\n"
     ]
    }
   ],
   "source": [
    "# Run this cell\n",
    "# Find the most similar words to the result vector (remember adding king and queen should give us various royalty)\n",
    "most_similar_words = word2vec_model.similar_by_vector(result_vector, topn=10)\n",
    "\n",
    "# Print the most similar words\n",
    "print(\"Most Similar Words to Result Vector:\")\n",
    "for word, similarity in most_similar_words:\n",
    "    print(f\"{word}: {similarity}\")"
   ]
  },
  {
   "cell_type": "code",
   "execution_count": null,
   "metadata": {},
   "outputs": [],
   "source": []
  },
  {
   "cell_type": "code",
   "execution_count": null,
   "metadata": {},
   "outputs": [],
   "source": []
  }
 ],
 "metadata": {
  "kernelspec": {
   "display_name": "Python 3",
   "language": "python",
   "name": "python3"
  },
  "language_info": {
   "codemirror_mode": {
    "name": "ipython",
    "version": 3
   },
   "file_extension": ".py",
   "mimetype": "text/x-python",
   "name": "python",
   "nbconvert_exporter": "python",
   "pygments_lexer": "ipython3",
   "version": "3.11.8"
  }
 },
 "nbformat": 4,
 "nbformat_minor": 2
}
